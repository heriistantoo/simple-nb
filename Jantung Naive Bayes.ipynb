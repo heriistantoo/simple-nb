{
 "cells": [
  {
   "cell_type": "code",
   "execution_count": null,
   "metadata": {},
   "outputs": [],
   "source": [
    "#     age - age in years\n",
    "#     sex - (1 = male; 0 = female)\n",
    "#     cp - chest pain type\n",
    "#     trestbps - resting blood pressure (in mm Hg on admission to the hospital)\n",
    "#     chol - serum cholestoral in mg/dl\n",
    "#     fbs - (fasting blood sugar > 120 mg/dl) (1 = true; 0 = false)\n",
    "#     restecg - resting electrocardiographic results\n",
    "#     thalach - maximum heart rate achieved\n",
    "#     exang - exercise induced angina (1 = yes; 0 = no)\n",
    "#     oldpeak - ST depression induced by exercise relative to rest\n",
    "#     slope - the slope of the peak exercise ST segment\n",
    "#     ca - number of major vessels (0-3) colored by flourosopy\n",
    "#     thal - 3 = normal; 6 = fixed defect; 7 = reversable defect\n",
    "#     target - have disease or not (1=yes, 0=no)"
   ]
  },
  {
   "cell_type": "code",
   "execution_count": 4,
   "metadata": {},
   "outputs": [],
   "source": [
    "import pandas as pd\n",
    "import numpy as np\n",
    "\n",
    "from sklearn.model_selection import train_test_split\n",
    "from sklearn.metrics import accuracy_score\n",
    "from sklearn.naive_bayes import GaussianNB\n",
    "\n",
    "df = pd.read_csv('./heart_disease.csv')\n",
    "\n",
    "x = df.values\n",
    "x = np.delete(x,13,axis=1)\n",
    "\n",
    "y = df['target'].values\n",
    "\n",
    "x_train, x_test, y_train, y_test = train_test_split(x,y,test_size = 0.2, random_state= 0)\n"
   ]
  },
  {
   "cell_type": "code",
   "execution_count": 5,
   "metadata": {},
   "outputs": [
    {
     "data": {
      "text/plain": [
       "0.852"
      ]
     },
     "execution_count": 5,
     "metadata": {},
     "output_type": "execute_result"
    }
   ],
   "source": [
    "nb_clf = GaussianNB()\n",
    "nb_clf.fit(x_train, y_train)\n",
    "\n",
    "y_pred = nb_clf.predict(x_test)\n",
    "\n",
    "round(accuracy_score(y_test,y_pred),3)"
   ]
  }
 ],
 "metadata": {
  "kernelspec": {
   "display_name": "Python 3",
   "language": "python",
   "name": "python3"
  },
  "language_info": {
   "codemirror_mode": {
    "name": "ipython",
    "version": 3
   },
   "file_extension": ".py",
   "mimetype": "text/x-python",
   "name": "python",
   "nbconvert_exporter": "python",
   "pygments_lexer": "ipython3",
   "version": "3.8.5"
  }
 },
 "nbformat": 4,
 "nbformat_minor": 2
}
